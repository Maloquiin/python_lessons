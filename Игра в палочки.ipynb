{
 "cells": [
  {
   "cell_type": "code",
   "execution_count": 6,
   "metadata": {},
   "outputs": [
    {
     "name": "stdout",
     "output_type": "stream",
     "text": [
      "Осталось 10 палочек\n",
      "Player 1 вытягивает 3\n",
      "Осталось 7 палочек\n",
      "Player 2 вытягивает 1\n",
      "Осталось 6 палочек\n",
      "Player 1 вытягивает 3\n",
      "Осталось 3 палочек\n",
      "Player 2 вытягивает 2\n",
      "Player 1 вытягивает последнюю палочку\n",
      "Player 2 победил\n"
     ]
    }
   ],
   "source": [
    "sticks = 10\n",
    "stick = True\n",
    "\n",
    "while sticks > 1:\n",
    "    \n",
    "    while True:\n",
    "        print(f'Осталось {sticks} палочек')\n",
    "        if sticks == 1:\n",
    "            flag = True\n",
    "            break\n",
    "        else:\n",
    "            try1 = int(input('Игрок 1 возьмите палочки от 1 до 3'))\n",
    "            print(f'Player 1 вытягивает {try1}')\n",
    "            if try1 < 1 or try1 > 3:\n",
    "                print('введите корректное значение от 1 до 3')\n",
    "            if try1 > 0 and try1 < 4:\n",
    "                sticks = sticks - try1\n",
    "                break\n",
    "    \n",
    "    while True:\n",
    "        print(f'Осталось {sticks} палочек')\n",
    "        if sticks == 1:\n",
    "            flag = False\n",
    "            break\n",
    "        else:\n",
    "            try2 = int(input('Игрок 2 возьмите палочки от 1 до 3'))\n",
    "            print(f'Player 2 вытягивает {try2}')\n",
    "            if try2 < 1 or try2 > 3:\n",
    "                print('введите корректное значение от 1 до 3')\n",
    "            if try2 > 0 and try2 < 4:\n",
    "                sticks = sticks - try2\n",
    "                break\n",
    "\n",
    "if flag == False:\n",
    "    print('Player 1 вытягивает последнюю палочку')\n",
    "    print('Player 2 победил')\n",
    "else: \n",
    "    print('Player 2 вытягивает последнюю палочку')\n",
    "    print('Player 1 победил')\n",
    "    \n",
    "    \n",
    "    \n",
    "\n",
    "    "
   ]
  }
 ],
 "metadata": {
  "kernelspec": {
   "display_name": "base",
   "language": "python",
   "name": "python3"
  },
  "language_info": {
   "codemirror_mode": {
    "name": "ipython",
    "version": 3
   },
   "file_extension": ".py",
   "mimetype": "text/x-python",
   "name": "python",
   "nbconvert_exporter": "python",
   "pygments_lexer": "ipython3",
   "version": "3.9.13"
  },
  "orig_nbformat": 4,
  "vscode": {
   "interpreter": {
    "hash": "40d3a090f54c6569ab1632332b64b2c03c39dcf918b08424e98f38b5ae0af88f"
   }
  }
 },
 "nbformat": 4,
 "nbformat_minor": 2
}
