{
 "cells": [
  {
   "cell_type": "code",
   "execution_count": 1,
   "id": "f99849d9",
   "metadata": {},
   "outputs": [
    {
     "name": "stdout",
     "output_type": "stream",
     "text": [
      "Флэш\n"
     ]
    }
   ],
   "source": [
    "table_cards = [\"10_S\", \"7_S\", \"9_H\", \"4_S\", \"3_S\"]\n",
    "hand_cards = [\"K_S\", \"Q_S\"]\n",
    "\n",
    "table_splited = [i.split('_')[1] for i in table_cards]\n",
    "hand_splited = [i.split('_')[1] for i in hand_cards]\n",
    "flush = 0\n",
    "if hand_splited[0] == hand_splited[1]:\n",
    "    flush=2\n",
    "else: flush=1\n",
    "\n",
    "for i in table_splited:\n",
    "    if i == hand_splited[0]:\n",
    "        flush = flush + 1\n",
    "    \n",
    "if flush >= 5:\n",
    "    print('Флэш')\n",
    "else: print('Нет флэша')\n"
   ]
  },
  {
   "cell_type": "code",
   "execution_count": 2,
   "id": "453adf6f",
   "metadata": {},
   "outputs": [
    {
     "name": "stdout",
     "output_type": "stream",
     "text": [
      "Number121\n",
      "Palindrome\n"
     ]
    }
   ],
   "source": [
    "number = int(input('Number'))\n",
    "\n",
    "reversed_number = 0\n",
    "\n",
    "tmp_original = number\n",
    "\n",
    "while tmp_original > 0:\n",
    "    reversed_number = (reversed_number * 10) + tmp_original % 10\n",
    "    tmp_original = tmp_original // 10 \n",
    "\n",
    "if number ==reversed_number:\n",
    "    print('Palindrome')\n",
    "else:\n",
    "    print('No Palindrome')"
   ]
  },
  {
   "cell_type": "code",
   "execution_count": 3,
   "id": "71726935",
   "metadata": {},
   "outputs": [
    {
     "name": "stdout",
     "output_type": "stream",
     "text": [
      "Введите число4\n",
      "Ваше число - 4 меньше загаданного числа\n",
      "Введите число25\n",
      "Ваше число - 25 меньше загаданного числа\n",
      "Введите число40\n",
      "Ваше число - 40 больше загаданного числа\n",
      "Введите число30\n",
      "Вы угадали число - 30\n"
     ]
    }
   ],
   "source": [
    "import random\n",
    "pc_number = random.randint(1,50)\n",
    "flag = False\n",
    "\n",
    "for i in range(6+1):\n",
    "    human_number = int(input('Введите число'))\n",
    "    if human_number == pc_number:\n",
    "        print(f'Вы угадали число - {human_number}')\n",
    "        break\n",
    "    elif human_number < pc_number:\n",
    "        print(f'Ваше число - {human_number} меньше загаданного числа')\n",
    "    elif human_number > pc_number:\n",
    "        print(f'Ваше число - {human_number} больше загаданного числа')\n",
    "\n",
    "if human_number != pc_number:\n",
    "    print(f'Вы не угадали число {pc_number}')"
   ]
  },
  {
   "cell_type": "code",
   "execution_count": null,
   "id": "4b67586b",
   "metadata": {},
   "outputs": [],
   "source": []
  }
 ],
 "metadata": {
  "kernelspec": {
   "display_name": "Python 3 (ipykernel)",
   "language": "python",
   "name": "python3"
  },
  "language_info": {
   "codemirror_mode": {
    "name": "ipython",
    "version": 3
   },
   "file_extension": ".py",
   "mimetype": "text/x-python",
   "name": "python",
   "nbconvert_exporter": "python",
   "pygments_lexer": "ipython3",
   "version": "3.9.13"
  }
 },
 "nbformat": 4,
 "nbformat_minor": 5
}
