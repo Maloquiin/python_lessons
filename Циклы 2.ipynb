{
 "cells": [
  {
   "attachments": {},
   "cell_type": "markdown",
   "metadata": {},
   "source": [
    "Флэш попадание"
   ]
  },
  {
   "cell_type": "code",
   "execution_count": 96,
   "metadata": {},
   "outputs": [
    {
     "name": "stdout",
     "output_type": "stream",
     "text": [
      "Флэш\n"
     ]
    }
   ],
   "source": [
    "table_cards = [\"10_S\", \"7_S\", \"9_H\", \"4_S\", \"3_S\"]\n",
    "hand_cards = [\"K_S\", \"Q_S\"]\n",
    "\n",
    "table_splited = [i.split('_')[1] for i in table_cards]\n",
    "hand_splited = [i.split('_')[1] for i in hand_cards]\n",
    "flush = 0\n",
    "if hand_splited[0] == hand_splited[1]:\n",
    "    flush=2\n",
    "else: flush=1\n",
    "\n",
    "for i in table_splited:\n",
    "    if i == hand_splited[0]:\n",
    "        flush = flush + 1\n",
    "    \n",
    "if flush >= 5:\n",
    "    print('Флэш')\n",
    "else: print('Нет флэша')\n"
   ]
  },
  {
   "attachments": {},
   "cell_type": "markdown",
   "metadata": {},
   "source": [
    "Проверка числа на палиндром"
   ]
  },
  {
   "cell_type": "code",
   "execution_count": 97,
   "metadata": {},
   "outputs": [
    {
     "name": "stdout",
     "output_type": "stream",
     "text": [
      "Palindrome\n"
     ]
    }
   ],
   "source": [
    "number = int(input('Number'))\n",
    "\n",
    "reversed_number = 0\n",
    "\n",
    "tmp_original = number\n",
    "\n",
    "while tmp_original > 0:\n",
    "    reversed_number = (reversed_number * 10) + tmp_original % 10\n",
    "    tmp_original = tmp_original // 10 \n",
    "\n",
    "if number ==reversed_number:\n",
    "    print('Palindrome')\n",
    "else:\n",
    "    print('No Palindrome')"
   ]
  },
  {
   "attachments": {},
   "cell_type": "markdown",
   "metadata": {},
   "source": [
    "Реализуйте одну классическую и достаточно простую игру: \"угадай число\".\n",
    "\n",
    "Компьютер загадывает число от 1 до 50 и даёт 6 попыток пользователю, чтобы тот смог угадать загаданное число. Когда пользователь вводит число, компьютер проверяет угадано ли число и если не угадано, то сообщает пользователю меньше ли или больше загаданое число. Если пользователь угадал - то сообщает о том, что число отгадано."
   ]
  },
  {
   "cell_type": "code",
   "execution_count": 107,
   "metadata": {},
   "outputs": [
    {
     "name": "stdout",
     "output_type": "stream",
     "text": [
      "Ваше число - 25 меньше загаданного числа\n",
      "Ваше число - 30 меньше загаданного числа\n",
      "Ваше число - 40 меньше загаданного числа\n",
      "Ваше число - 45 больше загаданного числа\n",
      "Ваше число - 42 больше загаданного числа\n",
      "Вы угадали число - 41\n"
     ]
    }
   ],
   "source": [
    "import random\n",
    "pc_number = random.randint(1,50)\n",
    "flag = False\n",
    "\n",
    "for i in range(6+1):\n",
    "    human_number = int(input('Введите число'))\n",
    "    if human_number == pc_number:\n",
    "        print(f'Вы угадали число - {human_number}')\n",
    "        break\n",
    "    elif human_number < pc_number:\n",
    "        print(f'Ваше число - {human_number} меньше загаданного числа')\n",
    "    elif human_number > pc_number:\n",
    "        print(f'Ваше число - {human_number} больше загаданного числа')\n",
    "\n",
    "if human_number != pc_number:\n",
    "    print(f'Вы не угадали число {pc_number}')"
   ]
  }
 ],
 "metadata": {
  "kernelspec": {
   "display_name": "base",
   "language": "python",
   "name": "python3"
  },
  "language_info": {
   "codemirror_mode": {
    "name": "ipython",
    "version": 3
   },
   "file_extension": ".py",
   "mimetype": "text/x-python",
   "name": "python",
   "nbconvert_exporter": "python",
   "pygments_lexer": "ipython3",
   "version": "3.9.13 (main, Aug 25 2022, 18:29:29) \n[Clang 12.0.0 ]"
  },
  "orig_nbformat": 4,
  "vscode": {
   "interpreter": {
    "hash": "40d3a090f54c6569ab1632332b64b2c03c39dcf918b08424e98f38b5ae0af88f"
   }
  }
 },
 "nbformat": 4,
 "nbformat_minor": 2
}
