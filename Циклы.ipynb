{
 "cells": [
  {
   "cell_type": "code",
   "execution_count": 30,
   "metadata": {},
   "outputs": [
    {
     "name": "stdout",
     "output_type": "stream",
     "text": [
      "\n",
      "*\n",
      "**\n",
      "***\n"
     ]
    }
   ],
   "source": [
    "number_str = int(input('введите количество строк'))\n",
    "for i in range(number_str+1):\n",
    "    print('*'*i)"
   ]
  },
  {
   "cell_type": "code",
   "execution_count": 29,
   "metadata": {},
   "outputs": [
    {
     "name": "stdout",
     "output_type": "stream",
     "text": [
      "0 is EVEN\n",
      "1 is ODD\n",
      "2 is EVEN\n"
     ]
    }
   ],
   "source": [
    "number_for = int(input('Введите число'))\n",
    "\n",
    "for i in range(number_for+1):\n",
    "    if i%2==0:\n",
    "        print(f\"{i} is EVEN\")\n",
    "    else: \n",
    "        print(f\"{i} is ODD\")"
   ]
  },
  {
   "cell_type": "code",
   "execution_count": 32,
   "metadata": {},
   "outputs": [
    {
     "name": "stdout",
     "output_type": "stream",
     "text": [
      "33\n"
     ]
    }
   ],
   "source": [
    "limit = 10\n",
    "\n",
    "# ниже ваше решение:\n",
    "arg_list = [x for x in range(limit+1) if x%3==0 or x%5==0]\n",
    "print(sum(arg_list))"
   ]
  },
  {
   "cell_type": "code",
   "execution_count": 33,
   "metadata": {},
   "outputs": [
    {
     "name": "stdout",
     "output_type": "stream",
     "text": [
      "[1, 3, 5, 7, 9, 0, 2, 4, 6, 8, 10, 12, 14, 16, 18, 20]\n"
     ]
    }
   ],
   "source": [
    "list1 = [x for x in range(10+1) if x%2==1]\n",
    "list2 = [x for x in range(20+1) if x%2==0]\n",
    "\n",
    "joined_list = list1 + list2\n",
    "print(joined_list)"
   ]
  },
  {
   "cell_type": "code",
   "execution_count": 62,
   "metadata": {},
   "outputs": [
    {
     "name": "stdout",
     "output_type": "stream",
     "text": [
      "2\n"
     ]
    }
   ],
   "source": [
    "current_hand = [2, 3, 4, 5, 10, 'Q']\n",
    "dd = {2: 1, 3: 1, 4: 1,5: 1,6: 1,7: 0, 8: 0, 9: 0, 10: -1, 'Q': -1, 'J': -1, 'K':-1, 'A':-1}\n",
    "cards_sum = 0\n",
    "for key in current_hand:\n",
    "    cards_sum+=dd[key]\n",
    "print(cards_sum)"
   ]
  }
 ],
 "metadata": {
  "kernelspec": {
   "display_name": "base",
   "language": "python",
   "name": "python3"
  },
  "language_info": {
   "codemirror_mode": {
    "name": "ipython",
    "version": 3
   },
   "file_extension": ".py",
   "mimetype": "text/x-python",
   "name": "python",
   "nbconvert_exporter": "python",
   "pygments_lexer": "ipython3",
   "version": "3.9.13"
  },
  "orig_nbformat": 4,
  "vscode": {
   "interpreter": {
    "hash": "40d3a090f54c6569ab1632332b64b2c03c39dcf918b08424e98f38b5ae0af88f"
   }
  }
 },
 "nbformat": 4,
 "nbformat_minor": 2
}
