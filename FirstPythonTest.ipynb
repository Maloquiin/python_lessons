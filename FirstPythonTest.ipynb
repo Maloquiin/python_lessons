{
 "cells": [
  {
   "cell_type": "code",
   "execution_count": 4,
   "id": "11d3a189",
   "metadata": {},
   "outputs": [
    {
     "data": {
      "text/plain": [
       "'utf-8'"
      ]
     },
     "execution_count": 4,
     "metadata": {},
     "output_type": "execute_result"
    }
   ],
   "source": [
    "import sys\n",
    "sys.getdefaultencoding()"
   ]
  },
  {
   "cell_type": "code",
   "execution_count": 5,
   "id": "ee48c594",
   "metadata": {},
   "outputs": [
    {
     "data": {
      "text/plain": [
       "'Ã'"
      ]
     },
     "execution_count": 5,
     "metadata": {},
     "output_type": "execute_result"
    }
   ],
   "source": [
    "chr(195)"
   ]
  },
  {
   "cell_type": "code",
   "execution_count": 6,
   "id": "280ddc26",
   "metadata": {},
   "outputs": [
    {
     "name": "stdout",
     "output_type": "stream",
     "text": [
      "<class 'bytes'>\n",
      "b'hello'\n",
      "b'hello'\n",
      "b'\\xff\\xfeh\\x00e\\x00l\\x00l\\x00o\\x00'\n"
     ]
    }
   ],
   "source": [
    "s = 'hello'\n",
    "enc_ascii = s.encode('ascii')\n",
    "enc_utf8 = s.encode('utf8')\n",
    "enc_utf16 = s.encode('utf16')\n",
    "\n",
    "print(type(enc_ascii))\n",
    "print(enc_ascii)\n",
    "print(enc_utf8)\n",
    "print(enc_utf16)"
   ]
  },
  {
   "cell_type": "code",
   "execution_count": 7,
   "id": "89c76835",
   "metadata": {},
   "outputs": [],
   "source": [
    "str_in_bytes = b'hello'\n",
    "str_in_bytes = s.encode('utf8')\n",
    "\n",
    "str_in_text = 'hello'\n"
   ]
  },
  {
   "cell_type": "code",
   "execution_count": 8,
   "id": "3dd69d7a",
   "metadata": {},
   "outputs": [
    {
     "data": {
      "text/plain": [
       "bytearray(b'Wello')"
      ]
     },
     "execution_count": 8,
     "metadata": {},
     "output_type": "execute_result"
    }
   ],
   "source": [
    "ba = bytearray(b'hello')\n",
    "ba[0] = 87\n",
    "ba"
   ]
  },
  {
   "cell_type": "code",
   "execution_count": 9,
   "id": "23ce5397",
   "metadata": {},
   "outputs": [
    {
     "name": "stdout",
     "output_type": "stream",
     "text": [
      "12\n"
     ]
    }
   ],
   "source": [
    "print((20-15)*2+2)"
   ]
  },
  {
   "cell_type": "code",
   "execution_count": 12,
   "id": "34f22dd2",
   "metadata": {},
   "outputs": [
    {
     "data": {
      "text/plain": [
       "22"
      ]
     },
     "execution_count": 12,
     "metadata": {},
     "output_type": "execute_result"
    }
   ],
   "source": [
    "age_str = input('Введите ваш возраст') # age_str это строка\n",
    "age = int(age_str) # age это int\n",
    "age"
   ]
  },
  {
   "cell_type": "code",
   "execution_count": 18,
   "id": "39fcf613",
   "metadata": {},
   "outputs": [
    {
     "data": {
      "text/plain": [
       "4"
      ]
     },
     "execution_count": 18,
     "metadata": {},
     "output_type": "execute_result"
    }
   ],
   "source": [
    "cap_str = input('Введите количество чашек')\n",
    "cap = int(cap_str)\n",
    "int(cap/6)"
   ]
  },
  {
   "cell_type": "code",
   "execution_count": 31,
   "id": "f8d27929",
   "metadata": {},
   "outputs": [
    {
     "data": {
      "text/plain": [
       "47.4236228055175"
      ]
     },
     "execution_count": 31,
     "metadata": {},
     "output_type": "execute_result"
    }
   ],
   "source": [
    "mark_1_str = input('Введите первую точку с координатами x и y через ;')\n",
    "mark_2_str = input('Введите вторую точку с координатами x и y через ;')\n",
    "\n",
    "mark_1 = mark_1_str.split(';',-1)\n",
    "mark_1 = list(map(float, mark_1))\n",
    "\n",
    "mark_2 = mark_2_str.split(';',-1)\n",
    "mark_2 = list(map(float, mark_2))\n",
    "\n",
    "import math\n",
    "d = math.sqrt((mark_2[0]-mark_1[0])**2 + (mark_2[1]-mark_1[1])**2)\n",
    "d\n"
   ]
  },
  {
   "cell_type": "code",
   "execution_count": 32,
   "id": "de078c48",
   "metadata": {},
   "outputs": [
    {
     "data": {
      "text/plain": [
       "10"
      ]
     },
     "execution_count": 32,
     "metadata": {},
     "output_type": "execute_result"
    }
   ],
   "source": [
    "chicken_str = input('Введите количество кур')\n",
    "pig_str = input('Введите количество свиней')\n",
    "cow_str = input('Введите количество коров')\n",
    "chicken = int(chicken_str)\n",
    "pig = int(pig_str)\n",
    "cow = int(cow_str)\n",
    "\n",
    "chicken*2+pig*4+cow*4\n",
    "\n"
   ]
  }
 ],
 "metadata": {
  "kernelspec": {
   "display_name": "base",
   "language": "python",
   "name": "python3"
  },
  "language_info": {
   "codemirror_mode": {
    "name": "ipython",
    "version": 3
   },
   "file_extension": ".py",
   "mimetype": "text/x-python",
   "name": "python",
   "nbconvert_exporter": "python",
   "pygments_lexer": "ipython3",
   "version": "3.9.13"
  },
  "vscode": {
   "interpreter": {
    "hash": "40d3a090f54c6569ab1632332b64b2c03c39dcf918b08424e98f38b5ae0af88f"
   }
  }
 },
 "nbformat": 4,
 "nbformat_minor": 5
}
